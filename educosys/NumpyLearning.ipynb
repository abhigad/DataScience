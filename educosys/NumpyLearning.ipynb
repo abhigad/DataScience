{
 "cells": [
  {
   "cell_type": "code",
   "execution_count": 1,
   "id": "8fc9b584-1c76-4406-bff3-7b7f95796706",
   "metadata": {},
   "outputs": [
    {
     "name": "stdout",
     "output_type": "stream",
     "text": [
      "12\n"
     ]
    }
   ],
   "source": [
    "print(3*4)"
   ]
  },
  {
   "cell_type": "code",
   "execution_count": 2,
   "id": "61b99769-6467-49dd-922a-9edcb57fead1",
   "metadata": {},
   "outputs": [],
   "source": [
    "import numpy as np"
   ]
  },
  {
   "cell_type": "code",
   "execution_count": 3,
   "id": "badd7b2c-e908-4bcf-8458-de3e09af5f1b",
   "metadata": {},
   "outputs": [
    {
     "name": "stdout",
     "output_type": "stream",
     "text": [
      "['False_', 'ScalarType', 'True_', '_CopyMode', '_NoValue', '__NUMPY_SETUP__', '__all__', '__array_api_version__', '__array_namespace_info__', '__builtins__', '__cached__', '__config__', '__dir__', '__doc__', '__expired_attributes__', '__file__', '__former_attrs__', '__future_scalars__', '__getattr__', '__loader__', '__name__', '__numpy_submodules__', '__package__', '__path__', '__spec__', '__version__', '_array_api_info', '_core', '_distributor_init', '_expired_attrs_2_0', '_globals', '_int_extended_msg', '_mat', '_msg', '_pyinstaller_hooks_dir', '_pytesttester', '_specific_msg', '_type_info', '_typing', '_utils', 'abs', 'absolute', 'acos', 'acosh', 'add', 'all', 'allclose', 'amax', 'amin', 'angle', 'any', 'append', 'apply_along_axis', 'apply_over_axes', 'arange', 'arccos', 'arccosh', 'arcsin', 'arcsinh', 'arctan', 'arctan2', 'arctanh', 'argmax', 'argmin', 'argpartition', 'argsort', 'argwhere', 'around', 'array', 'array2string', 'array_equal', 'array_equiv', 'array_repr', 'array_split', 'array_str', 'asanyarray', 'asarray', 'asarray_chkfinite', 'ascontiguousarray', 'asfortranarray', 'asin', 'asinh', 'asmatrix', 'astype', 'atan', 'atan2', 'atanh', 'atleast_1d', 'atleast_2d', 'atleast_3d', 'average', 'bartlett', 'base_repr', 'binary_repr', 'bincount', 'bitwise_and', 'bitwise_count', 'bitwise_invert', 'bitwise_left_shift', 'bitwise_not', 'bitwise_or', 'bitwise_right_shift', 'bitwise_xor', 'blackman', 'block', 'bmat', 'bool', 'bool_', 'broadcast', 'broadcast_arrays', 'broadcast_shapes', 'broadcast_to', 'busday_count', 'busday_offset', 'busdaycalendar', 'byte', 'bytes_', 'c_', 'can_cast', 'cbrt', 'cdouble', 'ceil', 'char', 'character', 'choose', 'clip', 'clongdouble', 'column_stack', 'common_type', 'complex128', 'complex64', 'complexfloating', 'compress', 'concat', 'concatenate', 'conj', 'conjugate', 'convolve', 'copy', 'copysign', 'copyto', 'core', 'corrcoef', 'correlate', 'cos', 'cosh', 'count_nonzero', 'cov', 'cross', 'csingle', 'ctypeslib', 'cumprod', 'cumsum', 'cumulative_prod', 'cumulative_sum', 'datetime64', 'datetime_as_string', 'datetime_data', 'deg2rad', 'degrees', 'delete', 'diag', 'diag_indices', 'diag_indices_from', 'diagflat', 'diagonal', 'diff', 'digitize', 'divide', 'divmod', 'dot', 'double', 'dsplit', 'dstack', 'dtype', 'dtypes', 'e', 'ediff1d', 'einsum', 'einsum_path', 'emath', 'empty', 'empty_like', 'equal', 'errstate', 'euler_gamma', 'exceptions', 'exp', 'exp2', 'expand_dims', 'expm1', 'extract', 'eye', 'f2py', 'fabs', 'fft', 'fill_diagonal', 'finfo', 'fix', 'flatiter', 'flatnonzero', 'flexible', 'flip', 'fliplr', 'flipud', 'float16', 'float32', 'float64', 'float_power', 'floating', 'floor', 'floor_divide', 'fmax', 'fmin', 'fmod', 'format_float_positional', 'format_float_scientific', 'frexp', 'from_dlpack', 'frombuffer', 'fromfile', 'fromfunction', 'fromiter', 'frompyfunc', 'fromregex', 'fromstring', 'full', 'full_like', 'gcd', 'generic', 'genfromtxt', 'geomspace', 'get_include', 'get_printoptions', 'getbufsize', 'geterr', 'geterrcall', 'gradient', 'greater', 'greater_equal', 'half', 'hamming', 'hanning', 'heaviside', 'histogram', 'histogram2d', 'histogram_bin_edges', 'histogramdd', 'hsplit', 'hstack', 'hypot', 'i0', 'identity', 'iinfo', 'imag', 'in1d', 'index_exp', 'indices', 'inexact', 'inf', 'info', 'inner', 'insert', 'int16', 'int32', 'int64', 'int8', 'int_', 'intc', 'integer', 'interp', 'intersect1d', 'intp', 'invert', 'is_busday', 'isclose', 'iscomplex', 'iscomplexobj', 'isdtype', 'isfinite', 'isfortran', 'isin', 'isinf', 'isnan', 'isnat', 'isneginf', 'isposinf', 'isreal', 'isrealobj', 'isscalar', 'issubdtype', 'iterable', 'ix_', 'kaiser', 'kron', 'lcm', 'ldexp', 'left_shift', 'less', 'less_equal', 'lexsort', 'lib', 'linalg', 'linspace', 'little_endian', 'load', 'loadtxt', 'log', 'log10', 'log1p', 'log2', 'logaddexp', 'logaddexp2', 'logical_and', 'logical_not', 'logical_or', 'logical_xor', 'logspace', 'long', 'longdouble', 'longlong', 'ma', 'mask_indices', 'matmul', 'matrix', 'matrix_transpose', 'matvec', 'max', 'maximum', 'may_share_memory', 'mean', 'median', 'memmap', 'meshgrid', 'mgrid', 'min', 'min_scalar_type', 'minimum', 'mintypecode', 'mod', 'modf', 'moveaxis', 'multiply', 'nan', 'nan_to_num', 'nanargmax', 'nanargmin', 'nancumprod', 'nancumsum', 'nanmax', 'nanmean', 'nanmedian', 'nanmin', 'nanpercentile', 'nanprod', 'nanquantile', 'nanstd', 'nansum', 'nanvar', 'ndarray', 'ndenumerate', 'ndim', 'ndindex', 'nditer', 'negative', 'nested_iters', 'newaxis', 'nextafter', 'nonzero', 'not_equal', 'number', 'object_', 'ogrid', 'ones', 'ones_like', 'outer', 'packbits', 'pad', 'partition', 'percentile', 'permute_dims', 'pi', 'piecewise', 'place', 'poly', 'poly1d', 'polyadd', 'polyder', 'polydiv', 'polyfit', 'polyint', 'polymul', 'polynomial', 'polysub', 'polyval', 'positive', 'pow', 'power', 'printoptions', 'prod', 'promote_types', 'ptp', 'put', 'put_along_axis', 'putmask', 'quantile', 'r_', 'rad2deg', 'radians', 'random', 'ravel', 'ravel_multi_index', 'real', 'real_if_close', 'rec', 'recarray', 'reciprocal', 'record', 'remainder', 'repeat', 'require', 'reshape', 'resize', 'result_type', 'right_shift', 'rint', 'roll', 'rollaxis', 'roots', 'rot90', 'round', 'row_stack', 's_', 'save', 'savetxt', 'savez', 'savez_compressed', 'sctypeDict', 'searchsorted', 'select', 'set_printoptions', 'setbufsize', 'setdiff1d', 'seterr', 'seterrcall', 'setxor1d', 'shape', 'shares_memory', 'short', 'show_config', 'show_runtime', 'sign', 'signbit', 'signedinteger', 'sin', 'sinc', 'single', 'sinh', 'size', 'sort', 'sort_complex', 'spacing', 'split', 'sqrt', 'square', 'squeeze', 'stack', 'std', 'str_', 'strings', 'subtract', 'sum', 'swapaxes', 'take', 'take_along_axis', 'tan', 'tanh', 'tensordot', 'test', 'testing', 'tile', 'timedelta64', 'trace', 'transpose', 'trapezoid', 'trapz', 'tri', 'tril', 'tril_indices', 'tril_indices_from', 'trim_zeros', 'triu', 'triu_indices', 'triu_indices_from', 'true_divide', 'trunc', 'typecodes', 'typename', 'typing', 'ubyte', 'ufunc', 'uint', 'uint16', 'uint32', 'uint64', 'uint8', 'uintc', 'uintp', 'ulong', 'ulonglong', 'union1d', 'unique', 'unique_all', 'unique_counts', 'unique_inverse', 'unique_values', 'unpackbits', 'unravel_index', 'unsignedinteger', 'unstack', 'unwrap', 'ushort', 'vander', 'var', 'vdot', 'vecdot', 'vecmat', 'vectorize', 'void', 'vsplit', 'vstack', 'where', 'zeros', 'zeros_like']\n"
     ]
    }
   ],
   "source": [
    "print(dir(np))"
   ]
  },
  {
   "cell_type": "code",
   "execution_count": 4,
   "id": "26faccc3-d20e-4e40-b2e3-1dc8b68ff386",
   "metadata": {},
   "outputs": [],
   "source": [
    "a = np.array([[1, 2, 3],[4, 5, 6]])"
   ]
  },
  {
   "cell_type": "code",
   "execution_count": 5,
   "id": "1adbf7b7-2601-4a76-a3b8-c8a6271569d9",
   "metadata": {},
   "outputs": [
    {
     "ename": "TypeError",
     "evalue": "'tuple' object is not callable",
     "output_type": "error",
     "traceback": [
      "\u001b[1;31m---------------------------------------------------------------------------\u001b[0m",
      "\u001b[1;31mTypeError\u001b[0m                                 Traceback (most recent call last)",
      "Cell \u001b[1;32mIn[5], line 1\u001b[0m\n\u001b[1;32m----> 1\u001b[0m \u001b[43ma\u001b[49m\u001b[38;5;241;43m.\u001b[39;49m\u001b[43mshape\u001b[49m\u001b[43m(\u001b[49m\u001b[43m)\u001b[49m\n",
      "\u001b[1;31mTypeError\u001b[0m: 'tuple' object is not callable"
     ]
    }
   ],
   "source": [
    "a.shape()"
   ]
  },
  {
   "cell_type": "code",
   "execution_count": null,
   "id": "9addb510-28cf-47b1-9bfe-82c9fd300df5",
   "metadata": {},
   "outputs": [],
   "source": [
    "a.shape"
   ]
  },
  {
   "cell_type": "code",
   "execution_count": null,
   "id": "c2f22bc4-30ce-4492-86ff-096bc5c9d6e2",
   "metadata": {},
   "outputs": [],
   "source": [
    "print('hello')"
   ]
  },
  {
   "cell_type": "code",
   "execution_count": null,
   "id": "63ce19e1-f602-4c42-82c6-2b5993e8c499",
   "metadata": {},
   "outputs": [],
   "source": [
    "a = np.array([1, 2, 3, 4, 5, 6])\n",
    "a"
   ]
  },
  {
   "cell_type": "code",
   "execution_count": null,
   "id": "9b968035-1fd8-427e-966d-ee3487dba04c",
   "metadata": {},
   "outputs": [],
   "source": [
    "a[0]"
   ]
  },
  {
   "cell_type": "code",
   "execution_count": null,
   "id": "800145cb-38c4-4bb2-b9c7-6a431494356c",
   "metadata": {},
   "outputs": [],
   "source": [
    "a[4]"
   ]
  },
  {
   "cell_type": "code",
   "execution_count": null,
   "id": "acfe9d23-9087-4a42-845f-958fa2827337",
   "metadata": {},
   "outputs": [],
   "source": [
    "a[0]=78"
   ]
  },
  {
   "cell_type": "code",
   "execution_count": null,
   "id": "2d7c8806-686b-428b-b9c0-9fefe79a33e4",
   "metadata": {},
   "outputs": [],
   "source": [
    "a"
   ]
  },
  {
   "cell_type": "markdown",
   "id": "b3c7251c-0a6a-4357-8da6-e44692c977e6",
   "metadata": {},
   "source": [
    "this is called slicing"
   ]
  },
  {
   "cell_type": "code",
   "execution_count": null,
   "id": "fe92c9a6-e9a1-4447-9606-e38aeec8062c",
   "metadata": {},
   "outputs": [],
   "source": [
    "a[:2]"
   ]
  },
  {
   "cell_type": "code",
   "execution_count": null,
   "id": "168751dd-e74c-4f8a-812d-6b5566fccd56",
   "metadata": {},
   "outputs": [],
   "source": [
    "a[2:]"
   ]
  },
  {
   "cell_type": "code",
   "execution_count": null,
   "id": "639d5c82-279b-4238-89f0-245b7a750761",
   "metadata": {},
   "outputs": [],
   "source": [
    "b=a[3:]"
   ]
  },
  {
   "cell_type": "code",
   "execution_count": null,
   "id": "873baa03-95f8-4c1a-8365-2a15e498e59d",
   "metadata": {},
   "outputs": [],
   "source": [
    "b"
   ]
  },
  {
   "cell_type": "markdown",
   "id": "da88e402-2890-41c2-988e-4ecf6a9e751c",
   "metadata": {},
   "source": [
    "This is a test"
   ]
  },
  {
   "cell_type": "code",
   "execution_count": null,
   "id": "e76cdd78-70f7-4d2f-9f58-6d69af26b2b1",
   "metadata": {},
   "outputs": [],
   "source": [
    "b[3]"
   ]
  },
  {
   "cell_type": "code",
   "execution_count": null,
   "id": "47cf3493-c7d6-41b8-b4b3-5c41f92f52c3",
   "metadata": {},
   "outputs": [],
   "source": [
    "a = np.array([[1, 2, 3, 4], [5, 6, 7, 8], [9, 10, 11, 12]])\n",
    "a"
   ]
  },
  {
   "cell_type": "code",
   "execution_count": null,
   "id": "cc14dd38-28dc-4e00-9bbb-9fca9e7c9402",
   "metadata": {},
   "outputs": [],
   "source": [
    "a.ndim"
   ]
  },
  {
   "cell_type": "code",
   "execution_count": null,
   "id": "ad7a8876-3b3e-447c-81e1-a0dbd27ab1a1",
   "metadata": {},
   "outputs": [],
   "source": [
    "n.shape"
   ]
  },
  {
   "cell_type": "code",
   "execution_count": null,
   "id": "48202094-1f46-48a7-9787-9b4ecd8eb5a3",
   "metadata": {},
   "outputs": [],
   "source": [
    "a.shape #3 rows and 4 columns"
   ]
  },
  {
   "cell_type": "code",
   "execution_count": null,
   "id": "dac9ee18-0759-4a29-b5d6-25d068564381",
   "metadata": {},
   "outputs": [],
   "source": [
    "len(a.shape) # rows and columns"
   ]
  },
  {
   "cell_type": "code",
   "execution_count": null,
   "id": "c8719621-c72b-4d1d-923c-82e28f9091d7",
   "metadata": {},
   "outputs": [],
   "source": [
    "a.size #total number of elements in the array"
   ]
  },
  {
   "cell_type": "code",
   "execution_count": null,
   "id": "6f433d99-65ce-4300-8fcf-5ffeab707652",
   "metadata": {},
   "outputs": [],
   "source": [
    "a= [44,23]\n",
    "a.shape\n",
    "len(a.shape)\n",
    "a.size"
   ]
  },
  {
   "cell_type": "code",
   "execution_count": null,
   "id": "25309ecc-862b-4157-9854-366388b20768",
   "metadata": {},
   "outputs": [],
   "source": [
    "a= ([44,23])\n",
    "a.shape\n",
    "len(a.shape)\n",
    "a.size"
   ]
  },
  {
   "cell_type": "code",
   "execution_count": null,
   "id": "23d3d394-6723-4844-9a07-a6d9c3f86c51",
   "metadata": {},
   "outputs": [],
   "source": [
    "a= np.array([44,23])\n",
    "a.shape\n",
    "len(a.shape)\n",
    "a.size"
   ]
  },
  {
   "cell_type": "code",
   "execution_count": null,
   "id": "3c59f0c1-1d2a-4a94-80aa-650cf3bfe03d",
   "metadata": {},
   "outputs": [],
   "source": [
    "a.shape # 2 columns"
   ]
  },
  {
   "cell_type": "code",
   "execution_count": null,
   "id": "99417b9e-16fe-4030-ac65-e0ac44327929",
   "metadata": {},
   "outputs": [],
   "source": [
    "len(a.shape) #1 row"
   ]
  },
  {
   "cell_type": "code",
   "execution_count": null,
   "id": "a0b48fae-b50c-430b-819e-31ea9e868f9d",
   "metadata": {},
   "outputs": [],
   "source": [
    "a.size"
   ]
  },
  {
   "cell_type": "code",
   "execution_count": null,
   "id": "0d7202bf-ee12-41d5-89a8-ef52eb6cd64e",
   "metadata": {},
   "outputs": [],
   "source": [
    "a= np.array([44,23,99])\n",
    "print(a.shape)\n",
    "print(len(a.shape))\n",
    "print(a.size)"
   ]
  },
  {
   "cell_type": "code",
   "execution_count": null,
   "id": "f580e4f0-59ca-4542-b43b-9bac5a423a52",
   "metadata": {},
   "outputs": [],
   "source": [
    "a= np.array([44,23,99],[11,22])\n",
    "print(a.shape)\n",
    "print(len(a.shape))\n",
    "print(a.size)"
   ]
  },
  {
   "cell_type": "code",
   "execution_count": null,
   "id": "f301f2b3-54fc-44a6-abbd-384a8b6fa3d2",
   "metadata": {},
   "outputs": [],
   "source": [
    "a= np.array([[44,23,99],[11,22,33]])\n",
    "print(a.shape)\n",
    "print(len(a.shape))\n",
    "print(a.size)"
   ]
  },
  {
   "cell_type": "code",
   "execution_count": null,
   "id": "c9585cfb-a8be-4ce2-9bb7-4d95bd7c4d36",
   "metadata": {},
   "outputs": [],
   "source": [
    "a= np.array([[44,23,99],[11,22,33],[44,55,66]])\n",
    "print(a.shape)\n",
    "print(len(a.shape))\n",
    "print(a.size)"
   ]
  },
  {
   "cell_type": "code",
   "execution_count": null,
   "id": "67bf5d66-638b-4d25-88f3-4e9cee334e0b",
   "metadata": {},
   "outputs": [],
   "source": [
    "a= np.array([[44,23,99],[11,22,33],[44,55,66]],[1,2,3])\n",
    "print(a.shape)\n",
    "print(len(a.shape))\n",
    "print(a.size)"
   ]
  },
  {
   "cell_type": "code",
   "execution_count": null,
   "id": "8febc8bb-78af-49bd-bdba-635e5e4ced0f",
   "metadata": {},
   "outputs": [],
   "source": [
    "a= np.array([1,2,3],[11,22,33],[44,55,66])\n",
    "print(a.shape)\n",
    "print(len(a.shape))\n",
    "print(a.size)"
   ]
  },
  {
   "cell_type": "markdown",
   "id": "d1f4214e-0d52-498e-bba8-93432b843aff",
   "metadata": {},
   "source": [
    "Following is a 3 dimensional array - [[[ inidcates dimension\n",
    "shape : (2, 2, 3) = 2*2*3 = 12 elements  "
   ]
  },
  {
   "cell_type": "code",
   "execution_count": null,
   "id": "6a246cf2-7523-4f2a-b9da-a9c0ab469dc3",
   "metadata": {},
   "outputs": [],
   "source": [
    "a = np.array([[[1, 2, 3], [4, 5, 6]], [[7, 8, 9], [10, 11, 12]]])\n",
    "print(a)\n",
    "print(\"============\")\n",
    "print(\"shape :\" , a.shape)\n",
    "print(\"============\")\n",
    "print(\"len(a.shape) :\" , len(a.shape))\n",
    "print(\"============\")\n",
    "print(\"a.size\" , a.size)\n",
    "print(\"============\")"
   ]
  },
  {
   "cell_type": "code",
   "execution_count": null,
   "id": "c93d870f-9b9f-44ee-8b4b-e4f61ff38eda",
   "metadata": {},
   "outputs": [],
   "source": [
    "a = np.array([1,2])\n",
    "print(a.shape)\n",
    "print(len(a.shape))\n",
    "print(a.size)"
   ]
  },
  {
   "cell_type": "code",
   "execution_count": null,
   "id": "248bcb86-7cef-42a0-9ac3-f86dcd85171c",
   "metadata": {},
   "outputs": [],
   "source": [
    "a = np.array([[1,2],[3,4]])\n",
    "print(a)\n",
    "print(\"============\")\n",
    "print(\"shape :\" , a.shape)\n",
    "print(\"============\")\n",
    "print(\"len(a.shape) :\" , len(a.shape))\n",
    "print(\"============\")\n",
    "print(\"a.size\" , a.size)\n",
    "print(\"============\")"
   ]
  },
  {
   "cell_type": "code",
   "execution_count": null,
   "id": "c56d0821-5787-48ee-bcbf-825ab569742f",
   "metadata": {},
   "outputs": [],
   "source": [
    "a = np.array([[[1,2],[3,4]],[1,2],[3,4]])\n",
    "print(a)\n",
    "print(\"============\")\n",
    "print(\"shape :\" , a.shape)\n",
    "print(\"============\")\n",
    "print(\"len(a.shape) :\" , len(a.shape))\n",
    "print(\"============\")\n",
    "print(\"a.size\" , a.size)\n",
    "print(\"============\")"
   ]
  },
  {
   "cell_type": "code",
   "execution_count": null,
   "id": "9cb8c179-4c85-4621-86c2-db0461d8d193",
   "metadata": {},
   "outputs": [],
   "source": [
    "a = np.array([[[1,2],[3,4]],[[1,2],[3,4]]])\n",
    "print(a)\n",
    "print(\"============\")\n",
    "print(\"shape :\" , a.shape)\n",
    "print(\"============\")\n",
    "print(\"len(a.shape) :\" , len(a.shape))\n",
    "print(\"============\")\n",
    "print(\"a.size\" , a.size)\n",
    "print(\"============\")"
   ]
  },
  {
   "attachments": {},
   "cell_type": "markdown",
   "id": "e6ca0fab-5b6c-4031-ab16-9b140cc51b7b",
   "metadata": {},
   "source": [
    "4 pairs of X-Y seperated by space\n"
   ]
  },
  {
   "cell_type": "code",
   "execution_count": null,
   "id": "6f55419c-a9ee-4233-9c43-5840f8018f88",
   "metadata": {},
   "outputs": [],
   "source": [
    "a = np.array([[[[1,2],[3,4]],[[1,2],[3,4]]],[[[1,2],[3,4]],[[1,2],[3,4]]]])\n",
    "print(a)\n",
    "print(\"============\")\n",
    "print(\"shape :\" , a.shape)\n",
    "print(\"============\")\n",
    "print(\"len(a.shape) :\" , len(a.shape))\n",
    "print(\"============\")\n",
    "print(\"a.size\" , a.size)\n",
    "print(\"============\")"
   ]
  },
  {
   "cell_type": "markdown",
   "id": "e973e56d-6f94-4dc8-9352-a93877871aef",
   "metadata": {},
   "source": [
    "Read shape : (2, 2, 2, 2, 2) from right to left as 2 rows and 2 columns // of 2 sets / of 2 sets /of 2sets "
   ]
  },
  {
   "cell_type": "code",
   "execution_count": null,
   "id": "bfd5977b-94b4-4aa5-964b-740c8446688f",
   "metadata": {},
   "outputs": [],
   "source": [
    "a = np.array([[[[[1,2],[3,4]],[[1,2],[3,4]]],[[[1,2],[3,4]],[[1,2],[3,4]]]],[[[[1,2],[3,4]],[[1,2],[3,4]]],[[[1,2],[3,4]],[[1,2],[3,4]]]]])\n",
    "print(a)\n",
    "print(\"============\")\n",
    "print(\"shape :\" , a.shape)\n",
    "print(\"============\")\n",
    "print(\"len(a.shape) :\" , len(a.shape))\n",
    "print(\"============\")\n",
    "print(\"a.size\" , a.size)\n",
    "print(\"============\")"
   ]
  },
  {
   "cell_type": "code",
   "execution_count": null,
   "id": "88774002-47ef-4f23-875a-374e6981cbf0",
   "metadata": {},
   "outputs": [],
   "source": [
    "a.dtype"
   ]
  },
  {
   "cell_type": "code",
   "execution_count": null,
   "id": "158df9cd-a674-4782-8fd8-9c953cd0c98a",
   "metadata": {
    "editable": true,
    "slideshow": {
     "slide_type": ""
    },
    "tags": []
   },
   "outputs": [],
   "source": [
    "import sys\n",
    "print(sys.modules)"
   ]
  },
  {
   "cell_type": "code",
   "execution_count": null,
   "id": "3a99377f-861f-4fc6-969f-8031838f97f2",
   "metadata": {},
   "outputs": [],
   "source": [
    "num_modules = len(sys.modules)\n",
    "print(f\"Number of loaded modules: {num_modules}\")"
   ]
  },
  {
   "cell_type": "code",
   "execution_count": null,
   "id": "08e9b33c-c9a5-46b0-bd13-8a20c59b62be",
   "metadata": {},
   "outputs": [],
   "source": [
    "np.zeros(3)"
   ]
  },
  {
   "cell_type": "code",
   "execution_count": null,
   "id": "f69a31da-72b9-4f9c-be7e-069058ce4701",
   "metadata": {},
   "outputs": [],
   "source": [
    "np.ones(2)"
   ]
  },
  {
   "cell_type": "code",
   "execution_count": null,
   "id": "4166ebce-bef1-4f8d-9ad5-240a6060b50e",
   "metadata": {},
   "outputs": [],
   "source": [
    "np.zeros((2,3)) #2 rows 3 column : shape =2"
   ]
  },
  {
   "cell_type": "code",
   "execution_count": null,
   "id": "151509e5-cbe7-44ef-b825-bcb4ba1eaaf8",
   "metadata": {},
   "outputs": [],
   "source": [
    "# Create an empty array with 2 elements\n",
    "np.empty(2) "
   ]
  },
  {
   "cell_type": "code",
   "execution_count": null,
   "id": "b4ae51ce-a368-4862-b908-536d39d6aa78",
   "metadata": {},
   "outputs": [],
   "source": [
    "np.zeros((2,3,4)) #2 rows 3 column:4  : shape =3 dimension-rows-column"
   ]
  },
  {
   "cell_type": "code",
   "execution_count": null,
   "id": "d6f1dcb3-26c9-4fe1-b388-74ec91e8e71a",
   "metadata": {},
   "outputs": [],
   "source": [
    "s = (2,2)\n",
    "np.zeros(s)\n"
   ]
  },
  {
   "cell_type": "code",
   "execution_count": null,
   "id": "40f3e449-47b5-4f91-8857-e2ddd88ab8f8",
   "metadata": {},
   "outputs": [],
   "source": [
    "s = (2,2,2)\n",
    "np.zeros(s)"
   ]
  },
  {
   "cell_type": "code",
   "execution_count": null,
   "id": "896b9523-be7a-437f-837b-cd6ae98b7acf",
   "metadata": {},
   "outputs": [],
   "source": [
    "s = (2,2,2,2)\n",
    "np.zeros(s)"
   ]
  },
  {
   "cell_type": "code",
   "execution_count": null,
   "id": "97da2c5c-ad4a-4bfa-9e0f-9530222ad087",
   "metadata": {},
   "outputs": [],
   "source": [
    "np.ones_like(3)"
   ]
  },
  {
   "cell_type": "code",
   "execution_count": null,
   "id": "06469560-1ad0-4e8c-a17e-4089e44ede91",
   "metadata": {},
   "outputs": [],
   "source": [
    "x = np.arange(6)\n",
    "x = x.reshape((2, 3))\n",
    "x"
   ]
  },
  {
   "cell_type": "code",
   "execution_count": null,
   "id": "3aed176b-d00f-484f-958b-03ba3cda5c4e",
   "metadata": {},
   "outputs": [],
   "source": [
    "np.ones_like(x) #same shape but with one"
   ]
  },
  {
   "cell_type": "code",
   "execution_count": null,
   "id": "e7c49372-574c-4468-89b7-9146761f4780",
   "metadata": {},
   "outputs": [],
   "source": [
    "np.ones(3)"
   ]
  },
  {
   "cell_type": "code",
   "execution_count": null,
   "id": "18ff7cb5-5a90-4045-91ba-0c46bd04dd5b",
   "metadata": {},
   "outputs": [],
   "source": [
    "np.ones((3,2))"
   ]
  },
  {
   "cell_type": "code",
   "execution_count": null,
   "id": "0a37c63d-eced-4e55-a6c3-b81f5d306ebc",
   "metadata": {},
   "outputs": [],
   "source": [
    "np.empty(5) #Return a new array of given shape and type, without initializing entries"
   ]
  },
  {
   "cell_type": "markdown",
   "id": "e625b532-ae26-4ddd-90a7-ce8bdbbaa544",
   "metadata": {},
   "source": [
    "Unlike other array creation functions (e.g. `zeros`, `ones`, `full`),\n",
    "`empty` does not initialize the values of the array, and may therefore be\n",
    "marginally faster. However, the values stored in the newly allocated array\n",
    "are arbitrary. For reproducible behavior, be sure to set each element of\n",
    "the array before reading"
   ]
  },
  {
   "cell_type": "markdown",
   "id": "0217c544-d015-490f-9176-f197ce5bfe59",
   "metadata": {},
   "source": [
    "NP.ARRANGE()\n",
    "Return evenly spaced values within a given interval\n",
    "Another stability issue is due to the internal implementation of\n",
    "`numpy.arange`.\n",
    "The actual step value used to populate the array is\n",
    "``dtype(start + step) - dtype(start)`` and not `step`. Precision loss\n",
    "can occur here, due to casting or due to using floating points when\n",
    "`start` is much larger than `step`. This can lead to unexpected\n",
    "behaviour. For example::\n",
    "\n",
    "  >>> np.arange(0, 5, 0.5, dtype=int)\n",
    "  array([0, 0, 0, 0, 0, 0, 0, 0, 0, 0])\n",
    "  >>> np.arange(-3, 3, 0.5, dtype=int)\n",
    "  array([-3, -2, -1,  0,  1,  2,  3,  4,  5,  6,  7,  8])"
   ]
  },
  {
   "cell_type": "code",
   "execution_count": 7,
   "id": "3d44865c-08bd-48dd-b4fd-d80558308786",
   "metadata": {},
   "outputs": [
    {
     "data": {
      "text/plain": [
       "array([0, 0, 0, 0, 0, 0, 0, 0, 0, 0])"
      ]
     },
     "execution_count": 7,
     "metadata": {},
     "output_type": "execute_result"
    }
   ],
   "source": [
    "np.arange(0, 5, 0.5, dtype=int) #start with 0 but less than 5 with increment of 0.5"
   ]
  },
  {
   "cell_type": "code",
   "execution_count": 10,
   "id": "6f6d6304-2f89-442c-820c-a76633a0bb73",
   "metadata": {},
   "outputs": [
    {
     "data": {
      "text/plain": [
       "array([-3, -2, -1,  0,  1,  2,  3,  4,  5,  6,  7,  8])"
      ]
     },
     "execution_count": 10,
     "metadata": {},
     "output_type": "execute_result"
    }
   ],
   "source": [
    "np.arange(-3, 3, 0.5, dtype=int) "
   ]
  },
  {
   "cell_type": "markdown",
   "id": "72fae736-7253-498e-bd1f-bc21136ab8fd",
   "metadata": {},
   "source": [
    "start with 2 but less than 9 with increment of 2"
   ]
  },
  {
   "cell_type": "code",
   "execution_count": 9,
   "id": "3ea50b3f-7080-4213-aa13-a343744bbd35",
   "metadata": {},
   "outputs": [
    {
     "data": {
      "text/plain": [
       "array([2, 4, 6, 8])"
      ]
     },
     "execution_count": 9,
     "metadata": {},
     "output_type": "execute_result"
    }
   ],
   "source": [
    "np.arange(2,9,2) "
   ]
  },
  {
   "cell_type": "markdown",
   "id": "b1e5170d-47e1-4e06-8660-a3b8b8619717",
   "metadata": {},
   "source": [
    "np.arange(-3, 3, 0.5, dtype=int) generates a NumPy array with values starting from -3 up to (but not including) 3, with a step of 0.5, and then converts the elements to integers. Due to the dtype=int, the decimal part of each number is truncated, not rounded.\n",
    "\n",
    "The length of the output might not be numerically stable.\n",
    "---------------------------------------------------------\n",
    "\n",
    "Another stability issue is due to the internal implementation of numpy.arange. The actual step value used to populate the array is dtype(start + step) - dtype(start) and not step. Precision loss can occur here, due to casting or due to using floating points when start is much larger than step. This can lead to unexpected behaviour. For example:\n",
    "\n",
    "np.arange(0, 5, 0.5, dtype=int)\n",
    "np.arange(-3, 3, 0.5, dtype=int)"
   ]
  },
  {
   "cell_type": "code",
   "execution_count": 11,
   "id": "91353c7f-5121-424d-8be9-02095b4ad27b",
   "metadata": {},
   "outputs": [
    {
     "data": {
      "text/plain": [
       "array([-3, -2, -1,  0,  1,  2,  3,  4,  5,  6,  7,  8])"
      ]
     },
     "execution_count": 11,
     "metadata": {},
     "output_type": "execute_result"
    }
   ],
   "source": [
    "np.arange(-3, 3, 0.5, dtype=int) "
   ]
  },
  {
   "cell_type": "code",
   "execution_count": 12,
   "id": "3daae750-b556-4175-89d8-ac79d0b90f9a",
   "metadata": {},
   "outputs": [
    {
     "data": {
      "text/plain": [
       "array([2. , 2.5, 3. , 3.5, 4. , 4.5, 5. , 5.5, 6. , 6.5, 7. , 7.5, 8. ,\n",
       "       8.5])"
      ]
     },
     "execution_count": 12,
     "metadata": {},
     "output_type": "execute_result"
    }
   ],
   "source": [
    "np.arange(2,9,0.5) "
   ]
  },
  {
   "cell_type": "markdown",
   "id": "92362893-077c-4719-9cd7-06cf6e737fb9",
   "metadata": {},
   "source": [
    "You can also use np.linspace() to create an array with values that are spaced linearly in a specified interval:\n",
    "\n",
    "np.linspace(0, 10, num=5)\n",
    "\n",
    "array([ 0. ,  2.5,  5. ,  7.5, 10. ])\n"
   ]
  },
  {
   "cell_type": "code",
   "execution_count": 15,
   "id": "01498d17-1da3-4636-9956-e97492f0e8a4",
   "metadata": {},
   "outputs": [
    {
     "data": {
      "text/plain": [
       "array([ 0. ,  2.5,  5. ,  7.5, 10. ])"
      ]
     },
     "execution_count": 15,
     "metadata": {},
     "output_type": "execute_result"
    }
   ],
   "source": [
    "np.linspace(0, 10, num=5) #spaced out evently"
   ]
  },
  {
   "cell_type": "code",
   "execution_count": 16,
   "id": "e6b6bfa3-0517-43da-96d6-406cf5a038ac",
   "metadata": {},
   "outputs": [
    {
     "data": {
      "text/plain": [
       "array([0.  , 1.25, 2.5 , 3.75, 5.  ])"
      ]
     },
     "execution_count": 16,
     "metadata": {},
     "output_type": "execute_result"
    }
   ],
   "source": [
    "np.linspace(0, 5, num=5)"
   ]
  },
  {
   "cell_type": "code",
   "execution_count": 17,
   "id": "bf219be8-672f-477d-89af-32ccec29fa66",
   "metadata": {},
   "outputs": [
    {
     "data": {
      "text/plain": [
       "array([ 0,  2,  5,  7, 10])"
      ]
     },
     "execution_count": 17,
     "metadata": {},
     "output_type": "execute_result"
    }
   ],
   "source": [
    "np.linspace(0, 10, num=5,dtype=int) #spaced out evently"
   ]
  },
  {
   "cell_type": "code",
   "execution_count": 18,
   "id": "6ab60f46-c215-4d93-932c-ddfa41280e13",
   "metadata": {},
   "outputs": [
    {
     "ename": "NameError",
     "evalue": "name 'int64' is not defined",
     "output_type": "error",
     "traceback": [
      "\u001b[1;31m---------------------------------------------------------------------------\u001b[0m",
      "\u001b[1;31mNameError\u001b[0m                                 Traceback (most recent call last)",
      "Cell \u001b[1;32mIn[18], line 1\u001b[0m\n\u001b[1;32m----> 1\u001b[0m np\u001b[38;5;241m.\u001b[39mones(\u001b[38;5;241m2\u001b[39m,dtype\u001b[38;5;241m=\u001b[39m\u001b[43mint64\u001b[49m)\n",
      "\u001b[1;31mNameError\u001b[0m: name 'int64' is not defined"
     ]
    }
   ],
   "source": [
    "np.ones(2,dtype=int64)"
   ]
  },
  {
   "cell_type": "code",
   "execution_count": 19,
   "id": "cea0e56a-c82b-4845-be8e-89fecba76c3f",
   "metadata": {},
   "outputs": [
    {
     "data": {
      "text/plain": [
       "array([1, 1])"
      ]
     },
     "execution_count": 19,
     "metadata": {},
     "output_type": "execute_result"
    }
   ],
   "source": [
    "np.ones(2,dtype=np.int64)"
   ]
  },
  {
   "cell_type": "code",
   "execution_count": null,
   "id": "1392f4f6-0e4a-4dd6-ba0c-9daa071b6315",
   "metadata": {},
   "outputs": [],
   "source": []
  },
  {
   "cell_type": "code",
   "execution_count": null,
   "id": "345ee84e-dd2a-4cb4-bdd2-6f495185fff2",
   "metadata": {},
   "outputs": [],
   "source": []
  },
  {
   "cell_type": "code",
   "execution_count": null,
   "id": "bbf635cd-a019-467c-9e44-06ae68a369f4",
   "metadata": {},
   "outputs": [],
   "source": []
  },
  {
   "cell_type": "code",
   "execution_count": null,
   "id": "7f9c3d0f-a258-4383-8f17-ffdc540b9554",
   "metadata": {},
   "outputs": [],
   "source": []
  },
  {
   "cell_type": "code",
   "execution_count": null,
   "id": "72fc36b0-d05d-4f29-ae12-3e0f7eaf8fc5",
   "metadata": {},
   "outputs": [],
   "source": []
  },
  {
   "cell_type": "code",
   "execution_count": null,
   "id": "e17d6188-210c-4316-bab7-ac747ab2ef31",
   "metadata": {},
   "outputs": [],
   "source": []
  },
  {
   "cell_type": "code",
   "execution_count": null,
   "id": "fb6f8f1c-5122-4d15-84db-dcfcab5843b4",
   "metadata": {},
   "outputs": [],
   "source": []
  }
 ],
 "metadata": {
  "kernelspec": {
   "display_name": "Python 3 (ipykernel)",
   "language": "python",
   "name": "python3"
  },
  "language_info": {
   "codemirror_mode": {
    "name": "ipython",
    "version": 3
   },
   "file_extension": ".py",
   "mimetype": "text/x-python",
   "name": "python",
   "nbconvert_exporter": "python",
   "pygments_lexer": "ipython3",
   "version": "3.12.9"
  }
 },
 "nbformat": 4,
 "nbformat_minor": 5
}
